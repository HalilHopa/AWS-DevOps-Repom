{
 "cells": [
  {
   "cell_type": "markdown",
   "metadata": {},
   "source": [
    "## Fonksiyon Uygulamasi"
   ]
  },
  {
   "cell_type": "markdown",
   "metadata": {},
   "source": [
    "### Bilgi:\n",
    "3 üzeri 2 = 9 \n",
    "Python'da üstel sayilari hesaplamak icin 3**2 seklinde gösterilir. "
   ]
  },
  {
   "cell_type": "code",
   "execution_count": 5,
   "metadata": {},
   "outputs": [
    {
     "data": {
      "text/plain": [
       "9"
      ]
     },
     "execution_count": 5,
     "metadata": {},
     "output_type": "execute_result"
    }
   ],
   "source": [
    "3**2"
   ]
  },
  {
   "cell_type": "markdown",
   "metadata": {},
   "source": [
    "#### Soru 1: Asagidaki fonskiyonu 2 parametre alacak ve üstel sonucu return edecek bicimde doldurun"
   ]
  },
  {
   "cell_type": "code",
   "execution_count": 3,
   "metadata": {},
   "outputs": [],
   "source": [
    "def ustel_sayi_v1():\n",
    "    \"\"\"\n",
    "    parametre: a: taban sayisi  b: kuvvet (üs) sayisi\n",
    "    tip:       a: integer       b: integer\n",
    "    örnek:     a: 3             b: 2\n",
    "    \n",
    "    r-return:  a üzeri b matematik isleminin sonucu\n",
    "    r-tip:     integer\n",
    "    r-örnek:   9\n",
    "    \"\"\"\n",
    "    \n",
    "    pass"
   ]
  },
  {
   "cell_type": "markdown",
   "metadata": {},
   "source": [
    "#### Soru 2: Asagidaki fonskiyonu 2 parametre alacak ve üstel sonucu return edecek bicimde  ve  ** yerine for döngüsü ile hesaplayacak bicimde olusturun"
   ]
  },
  {
   "cell_type": "code",
   "execution_count": null,
   "metadata": {},
   "outputs": [],
   "source": [
    "def ustel_sayi_v2():\n",
    "    \"\"\"\n",
    "    parametre: a: taban sayisi  b: kuvvet (üs) sayisi\n",
    "    tip:       a: integer       b: integer\n",
    "    örnek:     a: 3             b: 2\n",
    "    \n",
    "    r-return:  a üzeri b matematik isleminin sonucu\n",
    "    r-tip:     integer\n",
    "    r-örnek:   9\n",
    "    \"\"\"\n",
    "    \n",
    "    pass"
   ]
  },
  {
   "cell_type": "markdown",
   "metadata": {},
   "source": [
    "### Bilgi:\n",
    ".sort() komutu listeyi kücükten büyüge siralar"
   ]
  },
  {
   "cell_type": "code",
   "execution_count": 7,
   "metadata": {},
   "outputs": [
    {
     "data": {
      "text/plain": [
       "[1, 2, 3, 4, 5]"
      ]
     },
     "execution_count": 7,
     "metadata": {},
     "output_type": "execute_result"
    }
   ],
   "source": [
    "liste = [1,5,2,3,4]\n",
    "liste.sort()\n",
    "liste"
   ]
  },
  {
   "cell_type": "markdown",
   "metadata": {},
   "source": [
    "#### Soru 3: Asagidaki fonskiyonu 1 parametre alacak (sadece sayilardan olusan liste tipinde) ve en büyük iki sayiyi döndürecek bicimde olusturun"
   ]
  },
  {
   "cell_type": "code",
   "execution_count": null,
   "metadata": {},
   "outputs": [],
   "source": [
    "def listedeki_en_buyuk_iki_sayi():\n",
    "    \"\"\"\n",
    "    parametre: icerisinde sadece sayi iceren \n",
    "    tip:       liste\n",
    "    örnek:     [1,5,10,2,6]\n",
    "    \n",
    "    r-return:  en büyük sayi      en büyük ikinci sayi\n",
    "    r-tip:     integer            integer\n",
    "    r-örnek:   10                 6\n",
    "    \"\"\"\n",
    "    \n",
    "    pass"
   ]
  },
  {
   "cell_type": "markdown",
   "metadata": {},
   "source": [
    "## Map, Filter ve Lambda Uygulamalari"
   ]
  },
  {
   "cell_type": "markdown",
   "metadata": {},
   "source": [
    "#### Soru 4: Asagidaki fonskiyonu 1 parametre alacak (liste tipinde) ve sadece str tipindeki degerleri filter ve lambda ifadelerini kullanarak filtreleyecek bicimde olusturun"
   ]
  },
  {
   "cell_type": "code",
   "execution_count": 9,
   "metadata": {},
   "outputs": [],
   "source": [
    "def str_filtrele():\n",
    "    \"\"\"\n",
    "    parametre: rastgele tipte elemanlar iceren\n",
    "    tip:       liste\n",
    "    örnek:     [1,2,3,5,'abc','a',True]\n",
    "    \n",
    "    r-return:  sadece string tipindeki degerleri iceren\n",
    "    r-tip:     liste\n",
    "    r-örnek:   ['abc', 'a']\n",
    "    \"\"\"\n",
    "    \n",
    "    pass"
   ]
  },
  {
   "cell_type": "markdown",
   "metadata": {},
   "source": [
    "#### Soru 5: Asagidaki fonskiyonu 1 parametre alacak (sadece sayi iceren liste tipinde) ve map ve lambda ifadelerini kullanarak 6 sifir atacak bicimde olusturun"
   ]
  },
  {
   "cell_type": "code",
   "execution_count": null,
   "metadata": {},
   "outputs": [],
   "source": [
    "def paradan_alti_sifir_at():\n",
    "    \"\"\"\n",
    "    parametre: sayi tipinde elemanlar iceren\n",
    "    tip:       liste\n",
    "    örnek:     [1000000, 90000000, 15000000]\n",
    "    \n",
    "    r-return:  liste elemanlarinin 6 sifir atilmis halinde\n",
    "    r-tip:     liste\n",
    "    r-örnek:   [1, 90, 15]\n",
    "    \"\"\"\n",
    "    \n",
    "    pass"
   ]
  },
  {
   "cell_type": "markdown",
   "metadata": {},
   "source": [
    "## Kullanici Girdisi Uygulamasi"
   ]
  },
  {
   "cell_type": "markdown",
   "metadata": {},
   "source": [
    "#### Soru 6: Asagidaki fonskiyonu input komutu ile kullanicidan saat ve dakika alacak bicimde olusuturun."
   ]
  },
  {
   "cell_type": "code",
   "execution_count": null,
   "metadata": {},
   "outputs": [],
   "source": [
    "def zaman_verisi_al():\n",
    "    \"\"\"\n",
    "    parametre: None\n",
    "    tip:       None\n",
    "    örnek:     None\n",
    "    \n",
    "    r-return:  Saati ekrana döndür\n",
    "    r-tip:     String\n",
    "    r-örnek:   saat: 23,       dakika: 59\n",
    "    \"\"\"\n",
    "    \n",
    "    pass"
   ]
  }
 ],
 "metadata": {
  "kernelspec": {
   "display_name": "Python 3",
   "language": "python",
   "name": "python3"
  },
  "language_info": {
   "codemirror_mode": {
    "name": "ipython",
    "version": 3
   },
   "file_extension": ".py",
   "mimetype": "text/x-python",
   "name": "python",
   "nbconvert_exporter": "python",
   "pygments_lexer": "ipython3",
   "version": "3.7.6"
  }
 },
 "nbformat": 4,
 "nbformat_minor": 4
}
