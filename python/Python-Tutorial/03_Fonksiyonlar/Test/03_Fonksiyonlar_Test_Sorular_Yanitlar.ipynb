{
 "cells": [
  {
   "cell_type": "markdown",
   "metadata": {},
   "source": [
    "## Fonksiyon Uygulamasi"
   ]
  },
  {
   "cell_type": "markdown",
   "metadata": {},
   "source": [
    "### Bilgi:\n",
    "3 üzeri 2 = 9 \n",
    "Python'da üstel sayilari hesaplamak icin 3**2 seklinde gösterilir. "
   ]
  },
  {
   "cell_type": "code",
   "execution_count": 5,
   "metadata": {},
   "outputs": [
    {
     "data": {
      "text/plain": [
       "9"
      ]
     },
     "execution_count": 5,
     "metadata": {},
     "output_type": "execute_result"
    }
   ],
   "source": [
    "3**2"
   ]
  },
  {
   "cell_type": "markdown",
   "metadata": {},
   "source": [
    "#### Soru 1: Asagidaki fonskiyonu 2 parametre alacak ve üstel sonucu return edecek bicimde doldurun"
   ]
  },
  {
   "cell_type": "code",
   "execution_count": 14,
   "metadata": {},
   "outputs": [],
   "source": [
    "def ustel_sayi_v1(a,b):\n",
    "    \"\"\"\n",
    "    parametre: a: taban sayisi  b: kuvvet (üs) sayisi\n",
    "    tip:       a: integer       b: integer\n",
    "    örnek:     a: 3             b: 2\n",
    "    \n",
    "    r-return:  a üzeri b matematik isleminin sonucu\n",
    "    r-tip:     integer\n",
    "    r-örnek:   9\n",
    "    \"\"\"\n",
    "    \n",
    "    return a**b"
   ]
  },
  {
   "cell_type": "code",
   "execution_count": 15,
   "metadata": {},
   "outputs": [
    {
     "data": {
      "text/plain": [
       "9"
      ]
     },
     "execution_count": 15,
     "metadata": {},
     "output_type": "execute_result"
    }
   ],
   "source": [
    "ustel_sayi_v1(3,2)"
   ]
  },
  {
   "cell_type": "markdown",
   "metadata": {},
   "source": [
    "#### Soru 2: Asagidaki fonskiyonu 2 parametre alacak ve üstel sonucu return edecek bicimde  ve  ** yerine for döngüsü ile hesaplayacak bicimde olusturun"
   ]
  },
  {
   "cell_type": "code",
   "execution_count": 24,
   "metadata": {},
   "outputs": [],
   "source": [
    "def ustel_sayi_v2(a, b):\n",
    "    \"\"\"\n",
    "    parametre: a: taban sayisi  b: kuvvet (üs) sayisi\n",
    "    tip:       a: integer       b: integer\n",
    "    örnek:     a: 3             b: 2\n",
    "    \n",
    "    r-return:  a üzeri b matematik isleminin sonucu\n",
    "    r-tip:     integer\n",
    "    r-örnek:   9\n",
    "    \"\"\"\n",
    "        \n",
    "    sonuc = 1\n",
    "    if b < 1:\n",
    "        return sonuc \n",
    "    else:\n",
    "        for kuvvet in range (1,b+1):\n",
    "            sonuc = sonuc * a\n",
    "        return sonuc"
   ]
  },
  {
   "cell_type": "code",
   "execution_count": 19,
   "metadata": {},
   "outputs": [
    {
     "data": {
      "text/plain": [
       "125"
      ]
     },
     "execution_count": 19,
     "metadata": {},
     "output_type": "execute_result"
    }
   ],
   "source": [
    "ustel_sayi_v2(5,3)"
   ]
  },
  {
   "cell_type": "code",
   "execution_count": 23,
   "metadata": {},
   "outputs": [
    {
     "data": {
      "text/plain": [
       "1"
      ]
     },
     "execution_count": 23,
     "metadata": {},
     "output_type": "execute_result"
    }
   ],
   "source": [
    "ustel_sayi_v2(3,0)"
   ]
  },
  {
   "cell_type": "markdown",
   "metadata": {},
   "source": [
    "### Bilgi:\n",
    ".sort() komutu listeyi kücükten büyüge siralar"
   ]
  },
  {
   "cell_type": "code",
   "execution_count": 26,
   "metadata": {},
   "outputs": [
    {
     "data": {
      "text/plain": [
       "[1, 2, 3, 4, 5]"
      ]
     },
     "execution_count": 26,
     "metadata": {},
     "output_type": "execute_result"
    }
   ],
   "source": [
    "liste = [1,5,2,3,4]\n",
    "liste.sort()\n",
    "liste"
   ]
  },
  {
   "cell_type": "markdown",
   "metadata": {},
   "source": [
    "#### Soru 3: Asagidaki fonskiyonu 1 parametre alacak (sadece sayilardan olusan liste tipinde) ve en büyük iki sayiyi döndürecek bicimde olusturun"
   ]
  },
  {
   "cell_type": "code",
   "execution_count": 25,
   "metadata": {},
   "outputs": [],
   "source": [
    "def listedeki_en_buyuk_iki_sayi(liste):\n",
    "    \"\"\"\n",
    "    parametre: icerisinde sadece sayi iceren \n",
    "    tip:       liste\n",
    "    örnek:     [1,5,10,2,6]\n",
    "    \n",
    "    r-return:  en büyük sayi      en büyük ikinci sayi\n",
    "    r-tip:     integer            integer\n",
    "    r-örnek:   10                 6\n",
    "    \"\"\"\n",
    "    liste.sort()\n",
    "    return liste[-1], liste[-2]"
   ]
  },
  {
   "cell_type": "code",
   "execution_count": 27,
   "metadata": {},
   "outputs": [
    {
     "data": {
      "text/plain": [
       "(10, 6)"
      ]
     },
     "execution_count": 27,
     "metadata": {},
     "output_type": "execute_result"
    }
   ],
   "source": [
    "deneme = [1,5,10,2,6]\n",
    "listedeki_en_buyuk_iki_sayi(deneme)"
   ]
  },
  {
   "cell_type": "markdown",
   "metadata": {},
   "source": [
    "## Map, Filter ve Lambda Uygulamalari"
   ]
  },
  {
   "cell_type": "markdown",
   "metadata": {},
   "source": [
    "#### Soru 4: Asagidaki fonskiyonu 1 parametre alacak (liste tipinde) ve sadece str tipindeki degerleri filter ve lambda ifadelerini kullanarak filtreleyecek bicimde olusturun"
   ]
  },
  {
   "cell_type": "code",
   "execution_count": 28,
   "metadata": {},
   "outputs": [],
   "source": [
    "def str_filtrele(liste):\n",
    "    \"\"\"\n",
    "    parametre: rastgele tipte elemanlar iceren\n",
    "    tip:       liste\n",
    "    örnek:     [1,2,3,5,'abc','a',True]\n",
    "    \n",
    "    r-return:  sadece string tipindeki degerleri iceren\n",
    "    r-tip:     liste\n",
    "    r-örnek:   ['abc', 'a']\n",
    "    \"\"\"\n",
    "    \n",
    "    sonuc = []\n",
    "    \n",
    "    \n",
    "    for x in liste:\n",
    "        if type(x) == str:\n",
    "            sonuc.append(x)\n",
    "        else:\n",
    "            pass\n",
    "    return sonuc"
   ]
  },
  {
   "cell_type": "code",
   "execution_count": 29,
   "metadata": {},
   "outputs": [
    {
     "data": {
      "text/plain": [
       "['abc', 'a']"
      ]
     },
     "execution_count": 29,
     "metadata": {},
     "output_type": "execute_result"
    }
   ],
   "source": [
    "str_filtrele([1,2,3,5,'abc','a',True])"
   ]
  },
  {
   "cell_type": "code",
   "execution_count": 31,
   "metadata": {},
   "outputs": [],
   "source": [
    "def str_filtrele_v2(liste):\n",
    "    \"\"\"\n",
    "    parametre: rastgele tipte elemanlar iceren\n",
    "    tip:       liste\n",
    "    örnek:     [1,2,3,5,'abc','a',True]\n",
    "    \n",
    "    r-return:  sadece string tipindeki degerleri iceren\n",
    "    r-tip:     liste\n",
    "    r-örnek:   ['abc', 'a']\n",
    "    \"\"\"\n",
    "    \n",
    "    return [*filter(lambda x: x if type(x)==str else None, liste)]"
   ]
  },
  {
   "cell_type": "code",
   "execution_count": 32,
   "metadata": {},
   "outputs": [
    {
     "data": {
      "text/plain": [
       "['abc', 'a']"
      ]
     },
     "execution_count": 32,
     "metadata": {},
     "output_type": "execute_result"
    }
   ],
   "source": [
    "str_filtrele_v2([1,2,3,5,'abc','a',True])"
   ]
  },
  {
   "cell_type": "markdown",
   "metadata": {},
   "source": [
    "#### Soru 5: Asagidaki fonskiyonu 1 parametre alacak (sadece sayi iceren liste tipinde) ve map ve lambda ifadelerini kullanarak 6 sifir atacak bicimde olusturun"
   ]
  },
  {
   "cell_type": "code",
   "execution_count": 36,
   "metadata": {},
   "outputs": [],
   "source": [
    "def paradan_alti_sifir_at(liste):\n",
    "    \"\"\"\n",
    "    parametre: sayi tipinde elemanlar iceren\n",
    "    tip:       liste\n",
    "    örnek:     [1000000, 90000000, 15000000]\n",
    "    \n",
    "    r-return:  liste elemanlarinin 6 sifir atilmis halinde\n",
    "    r-tip:     liste\n",
    "    r-örnek:   [1, 90, 15]\n",
    "    \"\"\"\n",
    "    \n",
    "    sonuc = []\n",
    "    for x in liste:\n",
    "        sonuc.append(int(x/1000000))\n",
    "        \n",
    "    return sonuc"
   ]
  },
  {
   "cell_type": "code",
   "execution_count": 37,
   "metadata": {},
   "outputs": [
    {
     "data": {
      "text/plain": [
       "[1, 90, 15]"
      ]
     },
     "execution_count": 37,
     "metadata": {},
     "output_type": "execute_result"
    }
   ],
   "source": [
    "paradan_alti_sifir_at([1000000, 90000000, 15000000])"
   ]
  },
  {
   "cell_type": "code",
   "execution_count": 40,
   "metadata": {},
   "outputs": [],
   "source": [
    "def paradan_alti_sifir_at_v2(liste):\n",
    "    \"\"\"\n",
    "    parametre: sayi tipinde elemanlar iceren\n",
    "    tip:       liste\n",
    "    örnek:     [1000000, 90000000, 15000000]\n",
    "    \n",
    "    r-return:  liste elemanlarinin 6 sifir atilmis halinde\n",
    "    r-tip:     liste\n",
    "    r-örnek:   [1, 90, 15]\n",
    "    \"\"\"\n",
    "    \n",
    "    return [*map(lambda x: int(x/1000000), liste)]"
   ]
  },
  {
   "cell_type": "code",
   "execution_count": 41,
   "metadata": {},
   "outputs": [
    {
     "data": {
      "text/plain": [
       "[1, 90, 15]"
      ]
     },
     "execution_count": 41,
     "metadata": {},
     "output_type": "execute_result"
    }
   ],
   "source": [
    "paradan_alti_sifir_at_v2([1000000, 90000000, 15000000])"
   ]
  },
  {
   "cell_type": "markdown",
   "metadata": {},
   "source": [
    "## Kullanici Girdisi Uygulamasi"
   ]
  },
  {
   "cell_type": "markdown",
   "metadata": {},
   "source": [
    "#### Soru 6: Asagidaki fonskiyonu input komutu ile kullanicidan saat ve dakika alacak bicimde olusuturun."
   ]
  },
  {
   "cell_type": "code",
   "execution_count": 42,
   "metadata": {},
   "outputs": [],
   "source": [
    "def zaman_verisi_al():\n",
    "    \"\"\"\n",
    "    parametre: None\n",
    "    tip:       None\n",
    "    örnek:     None\n",
    "    \n",
    "    r-return:  Saati ekrana döndür\n",
    "    r-tip:     String\n",
    "    r-örnek:   saat: 23,       dakika: 59\n",
    "    \"\"\"\n",
    "    \n",
    "    saat = input(\"Saat giriniz:\")\n",
    "    if saat.isdigit():\n",
    "        saat = int(saat)\n",
    "        if((saat >= 0) and (saat < 24)):\n",
    "            dakika = input('Dakika giriniz:')\n",
    "            if dakika.isdigit():\n",
    "                dakika = int(dakika)\n",
    "                if ((dakika >= 0) and (dakika <60)):\n",
    "                    return 'Giris yapilan zaman {}:{}'.format(saat, dakika)\n",
    "                else:\n",
    "                    return 'Girilen dakika araligi yanlis'\n",
    "            else:\n",
    "                return 'Girilen dakika yanlis veri tipinde'\n",
    "        else:\n",
    "            return 'Girilen saat araligi yanlis'\n",
    "    else:\n",
    "        return 'Girilen saat yanlis veri tipinde'\n",
    "        "
   ]
  },
  {
   "cell_type": "code",
   "execution_count": 45,
   "metadata": {},
   "outputs": [
    {
     "name": "stdout",
     "output_type": "stream",
     "text": [
      "Saat giriniz:3\n",
      "Dakika giriniz:15\n"
     ]
    },
    {
     "data": {
      "text/plain": [
       "'Giris yapilan zaman 3:15'"
      ]
     },
     "execution_count": 45,
     "metadata": {},
     "output_type": "execute_result"
    }
   ],
   "source": [
    "zaman_verisi_al()"
   ]
  },
  {
   "cell_type": "code",
   "execution_count": null,
   "metadata": {},
   "outputs": [],
   "source": []
  }
 ],
 "metadata": {
  "kernelspec": {
   "display_name": "Python 3",
   "language": "python",
   "name": "python3"
  },
  "language_info": {
   "codemirror_mode": {
    "name": "ipython",
    "version": 3
   },
   "file_extension": ".py",
   "mimetype": "text/x-python",
   "name": "python",
   "nbconvert_exporter": "python",
   "pygments_lexer": "ipython3",
   "version": "3.7.6"
  }
 },
 "nbformat": 4,
 "nbformat_minor": 4
}
