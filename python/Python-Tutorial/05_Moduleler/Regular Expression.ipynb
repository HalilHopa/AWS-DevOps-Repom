{
 "cells": [
  {
   "cell_type": "markdown",
   "metadata": {},
   "source": [
    "# REgular Expressions (REGEX)"
   ]
  },
  {
   "cell_type": "code",
   "execution_count": 3,
   "metadata": {},
   "outputs": [],
   "source": [
    "import re"
   ]
  },
  {
   "cell_type": "code",
   "execution_count": 21,
   "metadata": {},
   "outputs": [
    {
     "data": {
      "text/plain": [
       "<re.Match object; span=(23, 27), match='Türk'>"
      ]
     },
     "execution_count": 21,
     "metadata": {},
     "output_type": "execute_result"
    }
   ],
   "source": [
    "cumle = \"Mustafa Kemal Atatürk, Türk asker, devlet adamı ve Türkiye Cumhuriyeti'nin kurucusudur.\"\n",
    "\n",
    "patern = \"Türk\"\n",
    "\n",
    "re.search(patern, cumle)"
   ]
  },
  {
   "cell_type": "code",
   "execution_count": 22,
   "metadata": {},
   "outputs": [
    {
     "data": {
      "text/plain": [
       "(23, 27)"
      ]
     },
     "execution_count": 22,
     "metadata": {},
     "output_type": "execute_result"
    }
   ],
   "source": [
    "durum = re.search(patern, cumle)\n",
    "durum.span()"
   ]
  },
  {
   "cell_type": "code",
   "execution_count": 23,
   "metadata": {},
   "outputs": [
    {
     "data": {
      "text/plain": [
       "['__class__',\n",
       " '__copy__',\n",
       " '__deepcopy__',\n",
       " '__delattr__',\n",
       " '__dir__',\n",
       " '__doc__',\n",
       " '__eq__',\n",
       " '__format__',\n",
       " '__ge__',\n",
       " '__getattribute__',\n",
       " '__getitem__',\n",
       " '__gt__',\n",
       " '__hash__',\n",
       " '__init__',\n",
       " '__init_subclass__',\n",
       " '__le__',\n",
       " '__lt__',\n",
       " '__ne__',\n",
       " '__new__',\n",
       " '__reduce__',\n",
       " '__reduce_ex__',\n",
       " '__repr__',\n",
       " '__setattr__',\n",
       " '__sizeof__',\n",
       " '__str__',\n",
       " '__subclasshook__',\n",
       " 'end',\n",
       " 'endpos',\n",
       " 'expand',\n",
       " 'group',\n",
       " 'groupdict',\n",
       " 'groups',\n",
       " 'lastgroup',\n",
       " 'lastindex',\n",
       " 'pos',\n",
       " 're',\n",
       " 'regs',\n",
       " 'span',\n",
       " 'start',\n",
       " 'string']"
      ]
     },
     "execution_count": 23,
     "metadata": {},
     "output_type": "execute_result"
    }
   ],
   "source": [
    "dir(durum)"
   ]
  },
  {
   "cell_type": "code",
   "execution_count": 24,
   "metadata": {},
   "outputs": [
    {
     "data": {
      "text/plain": [
       "23"
      ]
     },
     "execution_count": 24,
     "metadata": {},
     "output_type": "execute_result"
    }
   ],
   "source": [
    "durum.start()"
   ]
  },
  {
   "cell_type": "code",
   "execution_count": 25,
   "metadata": {},
   "outputs": [
    {
     "data": {
      "text/plain": [
       "27"
      ]
     },
     "execution_count": 25,
     "metadata": {},
     "output_type": "execute_result"
    }
   ],
   "source": [
    "durum.end()"
   ]
  },
  {
   "cell_type": "code",
   "execution_count": 26,
   "metadata": {},
   "outputs": [
    {
     "data": {
      "text/plain": [
       "'Türk'"
      ]
     },
     "execution_count": 26,
     "metadata": {},
     "output_type": "execute_result"
    }
   ],
   "source": [
    "durum.group()"
   ]
  },
  {
   "cell_type": "markdown",
   "metadata": {},
   "source": [
    "### Coklu Eslesmelerde (match)"
   ]
  },
  {
   "cell_type": "code",
   "execution_count": 27,
   "metadata": {},
   "outputs": [
    {
     "name": "stdout",
     "output_type": "stream",
     "text": [
      "Türk\n",
      "Türk\n"
     ]
    }
   ],
   "source": [
    "for eslesme in re.findall(patern, cumle):\n",
    "    print(eslesme)"
   ]
  },
  {
   "cell_type": "code",
   "execution_count": 31,
   "metadata": {},
   "outputs": [
    {
     "name": "stdout",
     "output_type": "stream",
     "text": [
      "(23, 27) Türk\n",
      "(51, 55) Türk\n"
     ]
    }
   ],
   "source": [
    "for eslesme in re.finditer(patern, cumle):\n",
    "    print(eslesme.span(), eslesme.group())"
   ]
  },
  {
   "cell_type": "markdown",
   "metadata": {},
   "source": [
    "### Dinamik Kullanim "
   ]
  },
  {
   "cell_type": "raw",
   "metadata": {},
   "source": [
    "###############################################################################\n",
    "####### Ifade ########## Aciklama ######## Örnek ########### Patern ###########\n",
    "####### --------------------------------------------------------------- #######\n",
    "#######  \\d   #########   rakam  #######  base42  #########  base\\d\\d #########\n",
    "#######  \\w   ########   karakter  #####   R2-D2  ######### \\w\\w\\w\\w\\w ########\n",
    "#######  \\s   ########    bosluk  ###### Ping Pong ######## Ping\\sPong ########\n",
    "#######  \\D   #######   rakam degil  #####  base  #########  \\D\\D\\D\\D #########\n",
    "#######  \\W   #####   karakter degil  ###   R2D2  ######### \\W\\W\\W\\W ##########\n",
    "#######  \\S   #####    bosluk degil ##### PingPong ### \\S\\S\\S\\S\\S\\S\\S\\S #######\n",
    "####### --------------------------------------------------------------- #######\n",
    "###############################################################################"
   ]
  },
  {
   "cell_type": "code",
   "execution_count": 36,
   "metadata": {},
   "outputs": [
    {
     "data": {
      "text/plain": [
       "<re.Match object; span=(18, 24), match='base42'>"
      ]
     },
     "execution_count": 36,
     "metadata": {},
     "output_type": "execute_result"
    }
   ],
   "source": [
    "ornek = \"En sevdigim kanal base42.\"\n",
    "patern = r\"base\\d\\d\"\n",
    "re.search(patern, ornek)"
   ]
  },
  {
   "cell_type": "code",
   "execution_count": 37,
   "metadata": {},
   "outputs": [
    {
     "data": {
      "text/plain": [
       "<re.Match object; span=(29, 41), match='0535-8886622'>"
      ]
     },
     "execution_count": 37,
     "metadata": {},
     "output_type": "execute_result"
    }
   ],
   "source": [
    "cumle = \"Selam, benim telefon numaram 0535-8886622.\"\n",
    "patern = r\"\\d\\d\\d\\d-\\d\\d\\d\\d\\d\\d\\d\"\n",
    "\n",
    "re.search(patern, cumle)"
   ]
  },
  {
   "cell_type": "raw",
   "metadata": {},
   "source": [
    "######## Ifade ####### Aciklama ######## Örnek ############# Patern ############\n",
    "####### ---------------------------------------------------------------- #######\n",
    "#######  {5}   ########  adet  #######  aaaaa  #########    \\w{5}     ##########\n",
    "#######  {3,4} #######   veya  #######   abc  ##########   \\w{3,4}     #########\n",
    "#######  {2,}  ########  en az  ##### 198721321 ########    \\d{2,}     #########\n",
    "#######    *   ###  0 ya da fazla #######  x  ##########     \\w*        ########\n",
    "#######    +   ### 1 ya da fazla ######  Ahmet1  #######    \\w+\\d+     #########\n",
    "#######    ?   #####  ya 1 ya hic ####### Mura #########     Murat?       ######\n",
    "####### --------------------------------------------------------------- ########\n",
    "################################################################################"
   ]
  },
  {
   "cell_type": "code",
   "execution_count": 3,
   "metadata": {},
   "outputs": [
    {
     "data": {
      "text/plain": [
       "<re.Match object; span=(29, 41), match='0535-8886622'>"
      ]
     },
     "execution_count": 3,
     "metadata": {},
     "output_type": "execute_result"
    }
   ],
   "source": [
    "cumle = \"Selam, benim telefon numaram 0535-8886622.\"\n",
    "patern = r\"\\d{3,4}-\\d{7}\"\n",
    "\n",
    "re.search(patern, cumle)"
   ]
  },
  {
   "cell_type": "code",
   "execution_count": 5,
   "metadata": {},
   "outputs": [
    {
     "name": "stdout",
     "output_type": "stream",
     "text": [
      " sevdigim (2, 11)\n",
      " kanal (11, 17)\n",
      " base42 (17, 24)\n"
     ]
    }
   ],
   "source": [
    "cumle = \"En sevdigim kanal base42.\"\n",
    "patern = r\"\\s\\w{5,}\"\n",
    "\n",
    "for eslesme in re.finditer(patern, cumle):\n",
    "    print(eslesme.group(), eslesme.span())"
   ]
  },
  {
   "cell_type": "code",
   "execution_count": 6,
   "metadata": {},
   "outputs": [
    {
     "name": "stdout",
     "output_type": "stream",
     "text": [
      " (0, 0)\n",
      " (1, 1)\n",
      " (2, 2)\n",
      " (3, 3)\n",
      " (4, 4)\n",
      " (5, 5)\n",
      " (6, 6)\n",
      " (7, 7)\n",
      " (8, 8)\n",
      " (9, 9)\n",
      " (10, 10)\n",
      " (11, 11)\n",
      " (12, 12)\n",
      " (13, 13)\n",
      " (14, 14)\n",
      " (15, 15)\n",
      " (16, 16)\n",
      " (17, 17)\n",
      " (18, 18)\n",
      " (19, 19)\n",
      " (20, 20)\n",
      " (21, 21)\n",
      "4 (22, 23)\n",
      "2 (23, 24)\n",
      " (24, 24)\n",
      " (25, 25)\n"
     ]
    }
   ],
   "source": [
    "patern = r\"\\d?\"\n",
    "\n",
    "for eslesme in re.finditer(patern, cumle):\n",
    "    print(eslesme.group(), eslesme.span())"
   ]
  },
  {
   "cell_type": "code",
   "execution_count": 7,
   "metadata": {},
   "outputs": [
    {
     "name": "stdout",
     "output_type": "stream",
     "text": [
      "42 (22, 24)\n"
     ]
    }
   ],
   "source": [
    "patern = r\"\\d+\"\n",
    "\n",
    "for eslesme in re.finditer(patern, cumle):\n",
    "    print(eslesme.group(), eslesme.span())"
   ]
  },
  {
   "cell_type": "code",
   "execution_count": 8,
   "metadata": {},
   "outputs": [
    {
     "name": "stdout",
     "output_type": "stream",
     "text": [
      "base42 (18, 24)\n"
     ]
    }
   ],
   "source": [
    "patern = r\"\\w*\\d+\"\n",
    "\n",
    "for eslesme in re.finditer(patern, cumle):\n",
    "    print(eslesme.group(), eslesme.span())"
   ]
  },
  {
   "cell_type": "code",
   "execution_count": 9,
   "metadata": {},
   "outputs": [
    {
     "name": "stdout",
     "output_type": "stream",
     "text": [
      "42 (18, 20)\n"
     ]
    }
   ],
   "source": [
    "cumle = \"En sevdigim kanal 42base.\"\n",
    "patern = r\"\\w*\\d+\"\n",
    "\n",
    "for eslesme in re.finditer(patern, cumle):\n",
    "    print(eslesme.group(), eslesme.span())"
   ]
  },
  {
   "cell_type": "code",
   "execution_count": 28,
   "metadata": {},
   "outputs": [],
   "source": [
    "### GSM Operatörleri:\n",
    "# 54...         -> Vodafone\n",
    "# 501,505,506   -> AVEA\n",
    "# 53...         -> Turkcell\n",
    "\n",
    "def gsm_operator_bul(tel_no):\n",
    "    patern = r\"(\\d{3})-(\\d{7})\"\n",
    "    eslesme = re.search(patern, tel_no)\n",
    "    \n",
    "    if eslesme:\n",
    "        gsm_kod = eslesme.groups()[0]\n",
    "        print(gsm_kod)\n",
    "        if gsm_kod.startswith(\"54\"):\n",
    "            return \"Vodafone\"\n",
    "        elif gsm_kod.startswith(\"501\") or gsm_kod.startswith(\"505\") or gsm_kod.startswith(\"506\"):\n",
    "            return \"AVEA\"\n",
    "        elif gsm_kod.startswith(\"53\"):\n",
    "            return \"Turkcell\"\n",
    "        else:\n",
    "            return \"Sebeke bulunamadi\"\n",
    "    else:\n",
    "        return \"Patern bulunamadi\"\n",
    "        "
   ]
  },
  {
   "cell_type": "code",
   "execution_count": 31,
   "metadata": {},
   "outputs": [
    {
     "name": "stdout",
     "output_type": "stream",
     "text": [
      "535\n"
     ]
    },
    {
     "data": {
      "text/plain": [
       "'Turkcell'"
      ]
     },
     "execution_count": 31,
     "metadata": {},
     "output_type": "execute_result"
    }
   ],
   "source": [
    "tel_no = \"Selam, benim telefon numaram 0535-8886622.\"\n",
    "gsm_operator_bul(tel_no)"
   ]
  },
  {
   "cell_type": "raw",
   "metadata": {},
   "source": [
    "######## Ifade ####### Aciklama ######## Örnek ############# Patern ############\n",
    "####### ---------------------------------------------------------------- #######\n",
    "#######    |   ########  veya  #######  slm  #########    selam|slm   ##########\n",
    "#######    ^    ####### baslar  #######  Ahmet  ##########   ^\\w+      #########\n",
    "#######    $   ########  biter   ##### base42   ########     \\d$       #########\n",
    "#######    .   ######  herhangi  #####  abcdef  ########      .*       #########\n",
    "#######    \\   ########  esc     #####  (not)   ########   \\(\\w{3}\\)   #########\n",
    "####### --------------------------------------------------------------- ########\n",
    "################################################################################"
   ]
  },
  {
   "cell_type": "code",
   "execution_count": 120,
   "metadata": {},
   "outputs": [],
   "source": [
    "import re\n",
    "\n",
    "def mesaj_hissi_bul(mesaj):\n",
    "    hisler = []\n",
    "    \n",
    "    pozitif_patern = r\"(merhaba|selam|ask|sevgi|dost|kardes|:\\)+)\"\n",
    "    negatif_patern = r\"(lan|aptal|abv|yeter|birak)\"\n",
    "    \n",
    "    heyecanli_patern = r\"!|[!|?]{2,}$\"\n",
    "    sakin_patern = r\"^[Tabi+|Hayhay]\"\n",
    "    \n",
    "    emin_patern = r\"[K|k]esin|[T|t]abi|[E|e]lbet\"\n",
    "    kararsiz_patern = r\"[B|b]elki|[S|s]anirim\"\n",
    "    \n",
    "    if re.search(pozitif_patern, mesaj):\n",
    "        hisler.append(\"Pozitif\")\n",
    "    if re.search(negatif_patern, mesaj):\n",
    "        hisler.append(\"Negatif\")\n",
    "    if re.search(heyecanli_patern, mesaj):\n",
    "        hisler.append(\"Heyecanli\")\n",
    "    if re.search(sakin_patern, mesaj):\n",
    "        hisler.append(\"Sakin\")\n",
    "    if re.search(emin_patern, mesaj):\n",
    "        hisler.append(\"Emin\")\n",
    "    if re.search(kararsiz_patern, mesaj):\n",
    "        hisler.append(\"Kararsiz\")\n",
    "    \n",
    "    return hisler"
   ]
  },
  {
   "cell_type": "code",
   "execution_count": 121,
   "metadata": {},
   "outputs": [
    {
     "name": "stdout",
     "output_type": "stream",
     "text": [
      "Naber abi? :)              \t ['Pozitif']\n",
      "Tabiii ki buyrun           \t ['Sakin', 'Emin']\n",
      "Sacmalamayi birak artik!   \t ['Negatif', 'Heyecanli']\n",
      "Belki yarindan da yakin... \t ['Kararsiz']\n",
      "Elbet birgün bulusacagiz   \t ['Emin']\n"
     ]
    }
   ],
   "source": [
    "cumle1 = \"Naber abi? :)             \"\n",
    "cumle2 = \"Tabiii ki buyrun          \"\n",
    "cumle3 = \"Sacmalamayi birak artik!  \"\n",
    "cumle4 = \"Belki yarindan da yakin...\"\n",
    "cumle5 = \"Elbet birgün bulusacagiz  \"\n",
    "cumleler = [cumle1, cumle2, cumle3, cumle4, cumle5]\n",
    "for cumle in cumleler :\n",
    "    print(cumle, '\\t', mesaj_hissi_bul(cumle))"
   ]
  },
  {
   "cell_type": "code",
   "execution_count": null,
   "metadata": {},
   "outputs": [],
   "source": []
  }
 ],
 "metadata": {
  "kernelspec": {
   "display_name": "Python 3",
   "language": "python",
   "name": "python3"
  },
  "language_info": {
   "codemirror_mode": {
    "name": "ipython",
    "version": 3
   },
   "file_extension": ".py",
   "mimetype": "text/x-python",
   "name": "python",
   "nbconvert_exporter": "python",
   "pygments_lexer": "ipython3",
   "version": "3.7.6"
  }
 },
 "nbformat": 4,
 "nbformat_minor": 4
}
