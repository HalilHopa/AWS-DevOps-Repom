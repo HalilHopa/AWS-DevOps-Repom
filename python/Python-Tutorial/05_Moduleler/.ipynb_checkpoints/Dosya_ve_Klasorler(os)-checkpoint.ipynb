{
 "cells": [
  {
   "cell_type": "markdown",
   "metadata": {},
   "source": [
    "## Magic Commands"
   ]
  },
  {
   "cell_type": "code",
   "execution_count": 1,
   "metadata": {},
   "outputs": [
    {
     "name": "stdout",
     "output_type": "stream",
     "text": [
      " Volume in drive C is Windows\n",
      " Volume Serial Number is 7AF9-06C8\n",
      "\n",
      " Directory of C:\\Users\\zipla\\Desktop\\Python_Egitim\\YakinKampus_PythonKursu\\05_Moduleler\n",
      "\n",
      "04.10.2020  14:14    <DIR>          .\n",
      "04.10.2020  14:14    <DIR>          ..\n",
      "04.10.2020  13:31    <DIR>          .ipynb_checkpoints\n",
      "04.10.2020  14:11            10.896 Dosya_ve_Klasorler.ipynb\n",
      "               1 File(s)         10.896 bytes\n",
      "               3 Dir(s)  802.767.802.368 bytes free\n"
     ]
    }
   ],
   "source": [
    "%ls"
   ]
  },
  {
   "cell_type": "code",
   "execution_count": 2,
   "metadata": {},
   "outputs": [
    {
     "data": {
      "text/plain": [
       "'C:\\\\Users\\\\zipla\\\\Desktop\\\\Python_Egitim\\\\YakinKampus_PythonKursu\\\\05_Moduleler'"
      ]
     },
     "execution_count": 2,
     "metadata": {},
     "output_type": "execute_result"
    }
   ],
   "source": [
    "%pwd"
   ]
  },
  {
   "cell_type": "markdown",
   "metadata": {},
   "source": [
    "## OS modulü"
   ]
  },
  {
   "cell_type": "markdown",
   "metadata": {},
   "source": [
    "### Navigasyon ve Icerik Listeleme"
   ]
  },
  {
   "cell_type": "code",
   "execution_count": 3,
   "metadata": {},
   "outputs": [],
   "source": [
    "import os"
   ]
  },
  {
   "cell_type": "code",
   "execution_count": 4,
   "metadata": {},
   "outputs": [
    {
     "data": {
      "text/plain": [
       "'C:\\\\Users\\\\zipla\\\\Desktop\\\\Python_Egitim\\\\YakinKampus_PythonKursu\\\\05_Moduleler'"
      ]
     },
     "execution_count": 4,
     "metadata": {},
     "output_type": "execute_result"
    }
   ],
   "source": [
    "os.getcwd()"
   ]
  },
  {
   "cell_type": "code",
   "execution_count": 5,
   "metadata": {},
   "outputs": [
    {
     "data": {
      "text/plain": [
       "['.ipynb_checkpoints', 'Dosya_ve_Klasorler.ipynb']"
      ]
     },
     "execution_count": 5,
     "metadata": {},
     "output_type": "execute_result"
    }
   ],
   "source": [
    "os.listdir()"
   ]
  },
  {
   "cell_type": "code",
   "execution_count": 6,
   "metadata": {},
   "outputs": [
    {
     "data": {
      "text/plain": [
       "['All Users',\n",
       " 'Default',\n",
       " 'Default User',\n",
       " 'desktop.ini',\n",
       " 'emg',\n",
       " 'ErolMesutGün',\n",
       " 'Public',\n",
       " 'zipla']"
      ]
     },
     "execution_count": 6,
     "metadata": {},
     "output_type": "execute_result"
    }
   ],
   "source": [
    "os.listdir('C:\\\\Users')"
   ]
  },
  {
   "cell_type": "code",
   "execution_count": 15,
   "metadata": {},
   "outputs": [],
   "source": [
    "os.chdir('C:\\\\Users\\\\zipla\\\\Desktop\\\\Python_Egitim\\\\YakinKampus_PythonKursu')"
   ]
  },
  {
   "cell_type": "code",
   "execution_count": 16,
   "metadata": {},
   "outputs": [
    {
     "data": {
      "text/plain": [
       "['.DS_Store',\n",
       " '.ipynb_checkpoints',\n",
       " '01_Giris',\n",
       " '02_Döngüler_ve_Sorgular',\n",
       " '03_Fonksiyonlar',\n",
       " '04_OOP_(Object Oriented Programming)_Class',\n",
       " '05_Moduleler']"
      ]
     },
     "execution_count": 16,
     "metadata": {},
     "output_type": "execute_result"
    }
   ],
   "source": [
    "os.listdir()"
   ]
  },
  {
   "cell_type": "code",
   "execution_count": 17,
   "metadata": {},
   "outputs": [
    {
     "name": "stdout",
     "output_type": "stream",
     "text": [
      ".DS_Store\n",
      ".ipynb_checkpoints\n",
      "01_Giris\n",
      "02_Döngüler_ve_Sorgular\n",
      "03_Fonksiyonlar\n",
      "04_OOP_(Object Oriented Programming)_Class\n",
      "05_Moduleler\n"
     ]
    }
   ],
   "source": [
    "dosyalar = os.listdir()\n",
    "for dosya_ismi in dosyalar:\n",
    "    print(dosya_ismi)"
   ]
  },
  {
   "cell_type": "markdown",
   "metadata": {},
   "source": [
    "### Yeni Eleman Olusturma, Isim Degistirme ve Silme"
   ]
  },
  {
   "cell_type": "code",
   "execution_count": 18,
   "metadata": {},
   "outputs": [],
   "source": [
    "os.chdir('C:\\\\Users\\\\zipla\\\\Desktop\\\\Python_Egitim\\\\YakinKampus_PythonKursu\\\\05_Moduleler')"
   ]
  },
  {
   "cell_type": "code",
   "execution_count": 19,
   "metadata": {},
   "outputs": [],
   "source": [
    "os.mkdir('C:\\\\Users\\\\zipla\\\\Desktop\\\\Python_Egitim\\\\YakinKampus_PythonKursu\\\\05_Moduleler\\\\deneme_klasoru')"
   ]
  },
  {
   "cell_type": "code",
   "execution_count": 20,
   "metadata": {},
   "outputs": [
    {
     "data": {
      "text/plain": [
       "['.ipynb_checkpoints', 'deneme_klasoru', 'Dosya_ve_Klasorler.ipynb']"
      ]
     },
     "execution_count": 20,
     "metadata": {},
     "output_type": "execute_result"
    }
   ],
   "source": [
    "os.listdir()"
   ]
  },
  {
   "cell_type": "code",
   "execution_count": 21,
   "metadata": {},
   "outputs": [],
   "source": [
    "# eger klasör icerigi bos ise\n",
    "os.rmdir('C:\\\\Users\\\\zipla\\\\Desktop\\\\Python_Egitim\\\\YakinKampus_PythonKursu\\\\05_Moduleler\\\\deneme_klasoru')\n",
    "\n",
    "# klasör silmeye alternatif\n",
    "# os.removedirs() komutunu kullanabilirsiniz"
   ]
  },
  {
   "cell_type": "code",
   "execution_count": 22,
   "metadata": {},
   "outputs": [
    {
     "data": {
      "text/plain": [
       "['.ipynb_checkpoints', 'Dosya_ve_Klasorler.ipynb']"
      ]
     },
     "execution_count": 22,
     "metadata": {},
     "output_type": "execute_result"
    }
   ],
   "source": [
    "os.listdir()"
   ]
  },
  {
   "cell_type": "code",
   "execution_count": 31,
   "metadata": {},
   "outputs": [],
   "source": [
    "## os.O_RDONLY − Read Only      - Sadece Oku\n",
    "## os.O_WRONLY − Write Only     - Sadece Yaz\n",
    "## os.O_RDWR   − Read and Write - Oku ve Yaz\n",
    "## os.O_CREAT  - Create         - Olustur\n",
    "yeni_dosya = os.open( \"yeni_dosya.txt\", os.O_RDWR|os.O_CREAT)\n",
    "os.write(yeni_dosya, 'Merhaba Dünya'.encode())\n",
    "os.close(yeni_dosya)"
   ]
  },
  {
   "cell_type": "code",
   "execution_count": 32,
   "metadata": {},
   "outputs": [
    {
     "data": {
      "text/plain": [
       "['.ipynb_checkpoints', 'Dosya_ve_Klasorler.ipynb', 'yeni_dosya.txt']"
      ]
     },
     "execution_count": 32,
     "metadata": {},
     "output_type": "execute_result"
    }
   ],
   "source": [
    "os.listdir()"
   ]
  },
  {
   "cell_type": "code",
   "execution_count": 33,
   "metadata": {},
   "outputs": [
    {
     "name": "stdout",
     "output_type": "stream",
     "text": [
      "os.stat_result(st_mode=33206, st_ino=4503599627392938, st_dev=2063140552, st_nlink=1, st_uid=0, st_gid=0, st_size=14, st_atime=1601814259, st_mtime=1601814259, st_ctime=1601814259)\n",
      "14\n",
      "Merhaba Dünya\n"
     ]
    }
   ],
   "source": [
    "yeni_dosya = os.open( \"yeni_dosya.txt\", os.O_RDONLY)\n",
    "istatistik = os.stat(yeni_dosya)\n",
    "\n",
    "print(istatistik)\n",
    "print(istatistik.st_size)\n",
    "\n",
    "icerik = os.read(yeni_dosya,istatistik.st_size)\n",
    "print(icerik.decode())\n",
    "os.close(yeni_dosya)"
   ]
  },
  {
   "cell_type": "code",
   "execution_count": 34,
   "metadata": {},
   "outputs": [],
   "source": [
    "# dosya silmek icin\n",
    "os.unlink('C:\\\\Users\\\\zipla\\\\Desktop\\\\Python_Egitim\\\\YakinKampus_PythonKursu\\\\05_Moduleler\\\\yeni_dosya.txt')"
   ]
  },
  {
   "cell_type": "code",
   "execution_count": 35,
   "metadata": {},
   "outputs": [
    {
     "data": {
      "text/plain": [
       "['.ipynb_checkpoints', 'Dosya_ve_Klasorler.ipynb']"
      ]
     },
     "execution_count": 35,
     "metadata": {},
     "output_type": "execute_result"
    }
   ],
   "source": [
    "os.listdir()"
   ]
  },
  {
   "cell_type": "code",
   "execution_count": 36,
   "metadata": {},
   "outputs": [
    {
     "data": {
      "text/plain": [
       "['.ipynb_checkpoints', 'deneme_eski', 'Dosya_ve_Klasorler.ipynb']"
      ]
     },
     "execution_count": 36,
     "metadata": {},
     "output_type": "execute_result"
    }
   ],
   "source": [
    "os.mkdir(\"deneme_yeni\")\n",
    "os.rename(\"deneme_yeni\", \"deneme_eski\")\n",
    "os.listdir()"
   ]
  }
 ],
 "metadata": {
  "kernelspec": {
   "display_name": "Python 3",
   "language": "python",
   "name": "python3"
  },
  "language_info": {
   "codemirror_mode": {
    "name": "ipython",
    "version": 3
   },
   "file_extension": ".py",
   "mimetype": "text/x-python",
   "name": "python",
   "nbconvert_exporter": "python",
   "pygments_lexer": "ipython3",
   "version": "3.7.6"
  }
 },
 "nbformat": 4,
 "nbformat_minor": 4
}
