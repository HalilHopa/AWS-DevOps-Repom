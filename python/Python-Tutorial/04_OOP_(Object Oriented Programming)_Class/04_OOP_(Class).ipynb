{
 "cells": [
  {
   "cell_type": "raw",
   "metadata": {},
   "source": [
    "class <Class Ismi>():   ### class isimleri, genelin aksine büyük harfle baslar (zorunluluk degil)\n",
    "    \n",
    "    <class attr>        ### class attribute, olusturulanin aksine genel degerleri icerir\n",
    "    \n",
    "    def __init__(self, <attr>):         ### init, instantiation yani örneklendirmenin kisaltmasidir\n",
    "        self.<instance attr> = attr     ### instance attribute'lar, olusturulan örnege özgüdür\n",
    "        ...\n",
    "    \n",
    "    def <method>(self, <params>):       ### methodlar class'a özgü fonksiyonlardir\n",
    "        ...\n",
    "        return ..."
   ]
  },
  {
   "cell_type": "markdown",
   "metadata": {},
   "source": [
    "### class Olusturma, Attribute'lar ve Method'lar"
   ]
  },
  {
   "cell_type": "code",
   "execution_count": 1,
   "metadata": {},
   "outputs": [],
   "source": [
    "class Ucus():\n",
    "    havayolu = \"THY\""
   ]
  },
  {
   "cell_type": "code",
   "execution_count": 2,
   "metadata": {},
   "outputs": [],
   "source": [
    "ucus1 = Ucus()"
   ]
  },
  {
   "cell_type": "code",
   "execution_count": 3,
   "metadata": {},
   "outputs": [
    {
     "data": {
      "text/plain": [
       "'THY'"
      ]
     },
     "execution_count": 3,
     "metadata": {},
     "output_type": "execute_result"
    }
   ],
   "source": [
    "ucus1.havayolu"
   ]
  },
  {
   "cell_type": "code",
   "execution_count": 4,
   "metadata": {},
   "outputs": [],
   "source": [
    "class Ucus():\n",
    "    havayolu = \"THY\"\n",
    "    \n",
    "    def __init__(self, kod, kalkis, varis, sure, kapasite, yolcu):\n",
    "        self.kod = kod\n",
    "        self.kalkis = kalkis\n",
    "        self.varis = varis\n",
    "        self.sure = sure\n",
    "        self.kapasite = kapasite\n",
    "        self.yolcu = yolcu\n",
    "        \n",
    "    "
   ]
  },
  {
   "cell_type": "code",
   "execution_count": 5,
   "metadata": {},
   "outputs": [
    {
     "ename": "TypeError",
     "evalue": "__init__() missing 6 required positional arguments: 'kod', 'kalkis', 'varis', 'sure', 'kapasite', and 'yolcu'",
     "output_type": "error",
     "traceback": [
      "\u001b[1;31m---------------------------------------------------------------------------\u001b[0m",
      "\u001b[1;31mTypeError\u001b[0m                                 Traceback (most recent call last)",
      "\u001b[1;32m<ipython-input-5-f6eceea2c453>\u001b[0m in \u001b[0;36m<module>\u001b[1;34m\u001b[0m\n\u001b[1;32m----> 1\u001b[1;33m \u001b[0mucus2\u001b[0m \u001b[1;33m=\u001b[0m \u001b[0mUcus\u001b[0m\u001b[1;33m(\u001b[0m\u001b[1;33m)\u001b[0m\u001b[1;33m\u001b[0m\u001b[1;33m\u001b[0m\u001b[0m\n\u001b[0m",
      "\u001b[1;31mTypeError\u001b[0m: __init__() missing 6 required positional arguments: 'kod', 'kalkis', 'varis', 'sure', 'kapasite', and 'yolcu'"
     ]
    }
   ],
   "source": [
    "ucus2 = Ucus()"
   ]
  },
  {
   "cell_type": "code",
   "execution_count": 6,
   "metadata": {},
   "outputs": [],
   "source": [
    "ucus2 = Ucus('TK123', 'IST', 'ANK', 60, 300, 50)"
   ]
  },
  {
   "cell_type": "code",
   "execution_count": 9,
   "metadata": {},
   "outputs": [
    {
     "data": {
      "text/plain": [
       "'ANK'"
      ]
     },
     "execution_count": 9,
     "metadata": {},
     "output_type": "execute_result"
    }
   ],
   "source": [
    "ucus2.varis"
   ]
  },
  {
   "cell_type": "code",
   "execution_count": 10,
   "metadata": {},
   "outputs": [
    {
     "data": {
      "text/plain": [
       "'THY'"
      ]
     },
     "execution_count": 10,
     "metadata": {},
     "output_type": "execute_result"
    }
   ],
   "source": [
    "ucus2.havayolu"
   ]
  },
  {
   "cell_type": "code",
   "execution_count": 11,
   "metadata": {},
   "outputs": [],
   "source": [
    "ucus3 = Ucus('TK223', 'BOD', 'ANT', 40, 250, 250)"
   ]
  },
  {
   "cell_type": "code",
   "execution_count": 13,
   "metadata": {},
   "outputs": [
    {
     "data": {
      "text/plain": [
       "'THY'"
      ]
     },
     "execution_count": 13,
     "metadata": {},
     "output_type": "execute_result"
    }
   ],
   "source": [
    "ucus3.havayolu"
   ]
  },
  {
   "cell_type": "code",
   "execution_count": 14,
   "metadata": {},
   "outputs": [],
   "source": [
    "class Ucus():\n",
    "    havayolu = \"THY\"\n",
    "    \n",
    "    def __init__(self, kod, kalkis, varis, sure, kapasite, yolcu):\n",
    "        self.kod = kod\n",
    "        self.kalkis = kalkis\n",
    "        self.varis = varis\n",
    "        self.sure = sure\n",
    "        self.kapasite = kapasite\n",
    "        self.yolcu = yolcu\n",
    "    \n",
    "    def anons_yap(self):\n",
    "        return \"{} sefer sayili {}-{} ucusumuz {} dakika sürecektir\".format(\n",
    "        self.kod,\n",
    "        self.kalkis,\n",
    "        self.varis,\n",
    "        self.sure)"
   ]
  },
  {
   "cell_type": "code",
   "execution_count": 15,
   "metadata": {},
   "outputs": [],
   "source": [
    "ucus3 = Ucus('TK223', 'BOD', 'ANT', 40, 250, 250)"
   ]
  },
  {
   "cell_type": "code",
   "execution_count": 16,
   "metadata": {},
   "outputs": [
    {
     "data": {
      "text/plain": [
       "'TK223 sefer sayili BOD-ANT ucusumuz 40 dakika sürecektir'"
      ]
     },
     "execution_count": 16,
     "metadata": {},
     "output_type": "execute_result"
    }
   ],
   "source": [
    "ucus3.anons_yap()"
   ]
  },
  {
   "cell_type": "code",
   "execution_count": 41,
   "metadata": {},
   "outputs": [],
   "source": [
    "class Ucus():\n",
    "    havayolu = \"THY\"\n",
    "    \n",
    "    def __init__(self, kod, kalkis, varis, sure, kapasite, yolcu):\n",
    "        self.kod = kod\n",
    "        self.kalkis = kalkis\n",
    "        self.varis = varis\n",
    "        self.sure = sure\n",
    "        self.kapasite = kapasite\n",
    "        self.yolcu = yolcu\n",
    "    \n",
    "    def anons_yap(self):\n",
    "        return \"{} sefer sayili {}-{} ucusumuz {} dakika sürecektir\".format(\n",
    "        self.kod,\n",
    "        self.kalkis,\n",
    "        self.varis,\n",
    "        self.sure)\n",
    "    \n",
    "    def koltuk_sayisi_guncelle(self):\n",
    "        return self.kapasite - self.yolcu\n",
    "    \n",
    "    def bilet_satis(self, bilet_adedi=1):\n",
    "        #self.yolcu = self.yolcu + bilet_adedi\n",
    "        if self.yolcu + bilet_adedi <= self.kapasite: \n",
    "            self.yolcu += bilet_adedi\n",
    "            self.koltuk_sayisi_guncelle()\n",
    "            print('{} adet bilet satilmistir, kalan koltuk sayisi {}'.format(\n",
    "                bilet_adedi,\n",
    "                self.koltuk_sayisi_guncelle()))\n",
    "        else:\n",
    "            print('Islem gerceklestirilemedi. Yetersiz koltuk sayisi..')\n",
    "    \n",
    "    def bilet_iptal(self, bilet_adedi=1):\n",
    "        if self.yolcu >= bilet_adedi:\n",
    "            self.yolcu -= bilet_adedi\n",
    "            print('{} adet bilet iptal edilmistir, güncel koltuk sayisi {}'.format(\n",
    "                bilet_adedi,\n",
    "                self.koltuk_sayisi_guncelle()))\n",
    "        else:\n",
    "            print('Islem gerceklestirilemedi. Iptal edilecek kadar yolcu yok..')"
   ]
  },
  {
   "cell_type": "code",
   "execution_count": 42,
   "metadata": {},
   "outputs": [],
   "source": [
    "ucus3 = Ucus('TK223', 'BOD', 'ANT', 40, 250, 200)"
   ]
  },
  {
   "cell_type": "code",
   "execution_count": 43,
   "metadata": {},
   "outputs": [
    {
     "data": {
      "text/plain": [
       "50"
      ]
     },
     "execution_count": 43,
     "metadata": {},
     "output_type": "execute_result"
    }
   ],
   "source": [
    "ucus3.koltuk_sayisi_guncelle()"
   ]
  },
  {
   "cell_type": "code",
   "execution_count": 44,
   "metadata": {},
   "outputs": [
    {
     "name": "stdout",
     "output_type": "stream",
     "text": [
      "5 adet bilet satilmistir, kalan koltuk sayisi 45\n"
     ]
    }
   ],
   "source": [
    "ucus3.bilet_satis(5)"
   ]
  },
  {
   "cell_type": "code",
   "execution_count": 45,
   "metadata": {},
   "outputs": [
    {
     "name": "stdout",
     "output_type": "stream",
     "text": [
      "1 adet bilet iptal edilmistir, güncel koltuk sayisi 46\n"
     ]
    }
   ],
   "source": [
    "ucus3.bilet_iptal()"
   ]
  },
  {
   "cell_type": "code",
   "execution_count": 47,
   "metadata": {},
   "outputs": [
    {
     "name": "stdout",
     "output_type": "stream",
     "text": [
      "Islem gerceklestirilemedi. Iptal edilecek kadar yolcu yok..\n"
     ]
    }
   ],
   "source": [
    "ucus3.bilet_iptal(200)"
   ]
  },
  {
   "cell_type": "code",
   "execution_count": 39,
   "metadata": {},
   "outputs": [
    {
     "name": "stdout",
     "output_type": "stream",
     "text": [
      "Islem gerceklestirilemedi. Yetersiz koltuk sayisi..\n"
     ]
    }
   ],
   "source": [
    "ucus3.bilet_satis(50)"
   ]
  },
  {
   "cell_type": "code",
   "execution_count": 40,
   "metadata": {},
   "outputs": [
    {
     "data": {
      "text/plain": [
       "40"
      ]
     },
     "execution_count": 40,
     "metadata": {},
     "output_type": "execute_result"
    }
   ],
   "source": [
    "ucus3.koltuk_sayisi_guncelle()"
   ]
  },
  {
   "cell_type": "markdown",
   "metadata": {},
   "source": [
    "### Dunder Method'lar (Double Under Score)"
   ]
  },
  {
   "cell_type": "code",
   "execution_count": 54,
   "metadata": {},
   "outputs": [],
   "source": [
    "ucus3 = Ucus('TK223', 'BOD', 'ANT', 40, 250, 200)"
   ]
  },
  {
   "cell_type": "code",
   "execution_count": 56,
   "metadata": {},
   "outputs": [
    {
     "data": {
      "text/plain": [
       "['kod',\n",
       " 'kalkis',\n",
       " 'varis',\n",
       " 'sure',\n",
       " 'kapasite',\n",
       " 'yolcu',\n",
       " '__module__',\n",
       " 'havayolu',\n",
       " '__init__',\n",
       " 'anons_yap',\n",
       " 'koltuk_sayisi_guncelle',\n",
       " 'bilet_satis',\n",
       " 'bilet_iptal',\n",
       " '__dict__',\n",
       " '__weakref__',\n",
       " '__doc__',\n",
       " '__repr__',\n",
       " '__hash__',\n",
       " '__str__',\n",
       " '__getattribute__',\n",
       " '__setattr__',\n",
       " '__delattr__',\n",
       " '__lt__',\n",
       " '__le__',\n",
       " '__eq__',\n",
       " '__ne__',\n",
       " '__gt__',\n",
       " '__ge__',\n",
       " '__new__',\n",
       " '__reduce_ex__',\n",
       " '__reduce__',\n",
       " '__subclasshook__',\n",
       " '__init_subclass__',\n",
       " '__format__',\n",
       " '__sizeof__',\n",
       " '__dir__',\n",
       " '__class__']"
      ]
     },
     "execution_count": 56,
     "metadata": {},
     "output_type": "execute_result"
    }
   ],
   "source": [
    "ucus3.__dir__()"
   ]
  },
  {
   "cell_type": "code",
   "execution_count": 59,
   "metadata": {},
   "outputs": [
    {
     "data": {
      "text/plain": [
       "<__main__.Ucus at 0x165681a6ac8>"
      ]
     },
     "execution_count": 59,
     "metadata": {},
     "output_type": "execute_result"
    }
   ],
   "source": [
    "ucus3"
   ]
  },
  {
   "cell_type": "code",
   "execution_count": 67,
   "metadata": {},
   "outputs": [],
   "source": [
    "class Ucus():\n",
    "    havayolu = \"THY\"\n",
    "    \n",
    "    def __init__(self, kod, kalkis, varis, sure, kapasite, yolcu):\n",
    "        self.kod = kod\n",
    "        self.kalkis = kalkis\n",
    "        self.varis = varis\n",
    "        self.sure = sure\n",
    "        self.kapasite = kapasite\n",
    "        self.yolcu = yolcu\n",
    "        \n",
    "    def __repr__(self):\n",
    "        return \"{} sefer sayili ucus, sistemde olusturulmustur..\".format(self.kod)\n",
    "    \n",
    "    def anons_yap(self):\n",
    "        return \"{} sefer sayili {}-{} ucusumuz {} dakika sürecektir\".format(\n",
    "        self.kod,\n",
    "        self.kalkis,\n",
    "        self.varis,\n",
    "        self.sure)\n",
    "    \n",
    "    def koltuk_sayisi_guncelle(self):\n",
    "        return self.kapasite - self.yolcu\n",
    "    \n",
    "    def bilet_satis(self, bilet_adedi=1):\n",
    "        #self.yolcu = self.yolcu + bilet_adedi\n",
    "        if self.yolcu + bilet_adedi <= self.kapasite: \n",
    "            self.yolcu += bilet_adedi\n",
    "            self.koltuk_sayisi_guncelle()\n",
    "            print('{} adet bilet satilmistir, kalan koltuk sayisi {}'.format(\n",
    "                bilet_adedi,\n",
    "                self.koltuk_sayisi_guncelle()))\n",
    "        else:\n",
    "            print('Islem gerceklestirilemedi. Yetersiz koltuk sayisi..')\n",
    "    \n",
    "    def bilet_iptal(self, bilet_adedi=1):\n",
    "        if self.yolcu >= bilet_adedi:\n",
    "            self.yolcu -= bilet_adedi\n",
    "            print('{} adet bilet iptal edilmistir, güncel koltuk sayisi {}'.format(\n",
    "                bilet_adedi,\n",
    "                self.koltuk_sayisi_guncelle()))\n",
    "        else:\n",
    "            print('Islem gerceklestirilemedi. Iptal edilecek kadar yolcu yok..')"
   ]
  },
  {
   "cell_type": "code",
   "execution_count": 68,
   "metadata": {},
   "outputs": [],
   "source": [
    "ucus3 = Ucus('TK223', 'BOD', 'ANT', 40, 250, 200)"
   ]
  },
  {
   "cell_type": "code",
   "execution_count": 69,
   "metadata": {},
   "outputs": [
    {
     "data": {
      "text/plain": [
       "TK223 sefer sayili ucus, sistemde olusturulmustur.."
      ]
     },
     "execution_count": 69,
     "metadata": {},
     "output_type": "execute_result"
    }
   ],
   "source": [
    "ucus3"
   ]
  },
  {
   "cell_type": "code",
   "execution_count": 70,
   "metadata": {},
   "outputs": [
    {
     "data": {
      "text/plain": [
       "['kod',\n",
       " 'kalkis',\n",
       " 'varis',\n",
       " 'sure',\n",
       " 'kapasite',\n",
       " 'yolcu',\n",
       " '__module__',\n",
       " 'havayolu',\n",
       " '__init__',\n",
       " '__repr__',\n",
       " 'anons_yap',\n",
       " 'koltuk_sayisi_guncelle',\n",
       " 'bilet_satis',\n",
       " 'bilet_iptal',\n",
       " '__dict__',\n",
       " '__weakref__',\n",
       " '__doc__',\n",
       " '__hash__',\n",
       " '__str__',\n",
       " '__getattribute__',\n",
       " '__setattr__',\n",
       " '__delattr__',\n",
       " '__lt__',\n",
       " '__le__',\n",
       " '__eq__',\n",
       " '__ne__',\n",
       " '__gt__',\n",
       " '__ge__',\n",
       " '__new__',\n",
       " '__reduce_ex__',\n",
       " '__reduce__',\n",
       " '__subclasshook__',\n",
       " '__init_subclass__',\n",
       " '__format__',\n",
       " '__sizeof__',\n",
       " '__dir__',\n",
       " '__class__']"
      ]
     },
     "execution_count": 70,
     "metadata": {},
     "output_type": "execute_result"
    }
   ],
   "source": [
    "ucus3.__dir__()"
   ]
  },
  {
   "cell_type": "markdown",
   "metadata": {},
   "source": [
    "### Inheritance (Kalitim)"
   ]
  },
  {
   "cell_type": "code",
   "execution_count": 79,
   "metadata": {},
   "outputs": [],
   "source": [
    "class Seyahat():\n",
    "    \n",
    "    def __init__(self, kalkis, varis):\n",
    "        self.kalkis = kalkis\n",
    "        self.varis = varis\n",
    "        \n",
    "    def anons(self):\n",
    "        return \"{}-{} seyahatine hosgeldiniz\".format(self.kalkis, self.varis)\n",
    "    \n",
    "class Otobus(Seyahat):\n",
    "    \n",
    "    def __init__(self, mola_duraklari, kalkis, varis):\n",
    "        Seyahat.__init__(self, kalkis, varis)\n",
    "        self.mola_duraklari = mola_duraklari\n",
    "        "
   ]
  },
  {
   "cell_type": "code",
   "execution_count": 80,
   "metadata": {},
   "outputs": [
    {
     "data": {
      "text/plain": [
       "'ANT-BOD seyahatine hosgeldiniz'"
      ]
     },
     "execution_count": 80,
     "metadata": {},
     "output_type": "execute_result"
    }
   ],
   "source": [
    "seyahat1 = Seyahat('ANT','BOD')\n",
    "seyahat1.anons()"
   ]
  },
  {
   "cell_type": "code",
   "execution_count": 82,
   "metadata": {},
   "outputs": [],
   "source": [
    "oto1 = Otobus(['FET', 'ALAN'], 'ANT', 'BOD')"
   ]
  },
  {
   "cell_type": "code",
   "execution_count": 83,
   "metadata": {},
   "outputs": [
    {
     "data": {
      "text/plain": [
       "['FET', 'ALAN']"
      ]
     },
     "execution_count": 83,
     "metadata": {},
     "output_type": "execute_result"
    }
   ],
   "source": [
    "oto1.mola_duraklari"
   ]
  },
  {
   "cell_type": "code",
   "execution_count": 84,
   "metadata": {},
   "outputs": [
    {
     "data": {
      "text/plain": [
       "'ANT'"
      ]
     },
     "execution_count": 84,
     "metadata": {},
     "output_type": "execute_result"
    }
   ],
   "source": [
    "oto1.kalkis"
   ]
  },
  {
   "cell_type": "code",
   "execution_count": 85,
   "metadata": {},
   "outputs": [
    {
     "data": {
      "text/plain": [
       "'ANT-BOD seyahatine hosgeldiniz'"
      ]
     },
     "execution_count": 85,
     "metadata": {},
     "output_type": "execute_result"
    }
   ],
   "source": [
    "oto1.anons()"
   ]
  },
  {
   "cell_type": "code",
   "execution_count": null,
   "metadata": {},
   "outputs": [],
   "source": []
  }
 ],
 "metadata": {
  "kernelspec": {
   "display_name": "Python 3",
   "language": "python",
   "name": "python3"
  },
  "language_info": {
   "codemirror_mode": {
    "name": "ipython",
    "version": 3
   },
   "file_extension": ".py",
   "mimetype": "text/x-python",
   "name": "python",
   "nbconvert_exporter": "python",
   "pygments_lexer": "ipython3",
   "version": "3.7.6"
  }
 },
 "nbformat": 4,
 "nbformat_minor": 4
}
