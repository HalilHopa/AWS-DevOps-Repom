{
 "cells": [
  {
   "cell_type": "markdown",
   "metadata": {},
   "source": [
    "# if Sorguları"
   ]
  },
  {
   "cell_type": "raw",
   "metadata": {},
   "source": [
    "if <koşul sağlanıyorsa>:\n",
    "   <burada yazılanı yap>"
   ]
  },
  {
   "cell_type": "code",
   "execution_count": 2,
   "metadata": {},
   "outputs": [
    {
     "name": "stdout",
     "output_type": "stream",
     "text": [
      "Semsiyeni al!\n"
     ]
    }
   ],
   "source": [
    "hava_durumu = 'yagisli'\n",
    "\n",
    "if hava_durumu == 'yagisli':\n",
    "    print(\"Semsiyeni al!\")"
   ]
  },
  {
   "cell_type": "raw",
   "metadata": {},
   "source": [
    "if <koşul sağlanıyorsa>:\n",
    "    <burada yazılanı yap>\n",
    "else:\n",
    "    <burada yazılanı yap>"
   ]
  },
  {
   "cell_type": "code",
   "execution_count": 1,
   "metadata": {},
   "outputs": [
    {
     "name": "stdout",
     "output_type": "stream",
     "text": [
      "Sikinti yok!\n"
     ]
    }
   ],
   "source": [
    "hava_durumu = 'karli'\n",
    "\n",
    "if hava_durumu == 'yagisli':\n",
    "    print(\"Semsiyeni al!\")\n",
    "else:\n",
    "    print(\"Sikinti yok!\")"
   ]
  },
  {
   "cell_type": "raw",
   "metadata": {},
   "source": [
    "if <koşul sağlanıyorsa>:\n",
    "    <burada yazılanı yap>\n",
    "elif <alternatif kosul saglaniyorsa>:\n",
    "    <burada yazilani yap>\n",
    "else:\n",
    "    <burada yazılanı yap>"
   ]
  },
  {
   "cell_type": "code",
   "execution_count": 3,
   "metadata": {},
   "outputs": [
    {
     "name": "stdout",
     "output_type": "stream",
     "text": [
      "Atkini al!\n"
     ]
    }
   ],
   "source": [
    "hava_durumu = 'karli'\n",
    "\n",
    "if hava_durumu == 'yagisli':\n",
    "    print(\"Semsiyeni al!\")\n",
    "elif hava_durumu == 'karli':\n",
    "    print(\"Atkini al!\")\n",
    "else:\n",
    "    print(\"Sikinti yok!\")"
   ]
  },
  {
   "cell_type": "markdown",
   "metadata": {},
   "source": [
    "# for Döngüleri"
   ]
  },
  {
   "cell_type": "raw",
   "metadata": {},
   "source": [
    "for <eleman> in <iterable>:\n",
    "    <buraya yazilani yap>"
   ]
  },
  {
   "cell_type": "code",
   "execution_count": 32,
   "metadata": {},
   "outputs": [
    {
     "name": "stdout",
     "output_type": "stream",
     "text": [
      "Ismail Aydemir\n",
      "Uygar Aydin\n",
      "Naz Yagcioglu\n",
      "Ferhat Ibrik\n",
      "Ulas Acil\n",
      "Bilal Kurucay\n"
     ]
    }
   ],
   "source": [
    "yorum_birakanlar = [\"Ismail Aydemir\", \"Uygar Aydin\", \"Naz Yagcioglu\",\"Ferhat Ibrik\",\"Ulas Acil\", \"Bilal Kurucay\"]\n",
    "\n",
    "for isim in yorum_birakanlar:\n",
    "    print(isim)"
   ]
  },
  {
   "cell_type": "code",
   "execution_count": 38,
   "metadata": {},
   "outputs": [
    {
     "name": "stdout",
     "output_type": "stream",
     "text": [
      "1 Ismail Aydemir\n",
      "2 Uygar Aydin\n",
      "3 Naz Yagcioglu\n",
      "4 Ferhat Ibrik\n",
      "5 Ulas Acil\n",
      "6 Bilal Kurucay\n"
     ]
    }
   ],
   "source": [
    "kullanici_sayi = 0\n",
    "for isim in yorum_birakanlar:\n",
    "    kullanici_sayi+=1\n",
    "    print(kullanici_sayi, isim)"
   ]
  },
  {
   "cell_type": "code",
   "execution_count": 34,
   "metadata": {},
   "outputs": [
    {
     "name": "stdout",
     "output_type": "stream",
     "text": [
      "1. Kullanicinin Adi Ismail ve Soyadi Aydemir\n",
      "2. Kullanicinin Adi Uygar ve Soyadi Aydin\n",
      "3. Kullanicinin Adi Naz ve Soyadi Yagcioglu\n",
      "4. Kullanicinin Adi Ferhat ve Soyadi Ibrik\n",
      "5. Kullanicinin Adi Ulas ve Soyadi Acil\n",
      "6. Kullanicinin Adi Bilal ve Soyadi Kurucay\n"
     ]
    }
   ],
   "source": [
    "kullanici_sayi = 0\n",
    "for isim in yorum_birakanlar:\n",
    "    kullanici_sayi+=1\n",
    "    ad, soyad = isim.split()[0], isim.split()[1]\n",
    "    print('{}. Kullanicinin Adi {} ve Soyadi {}'.format(kullanici_sayi,ad,soyad))"
   ]
  },
  {
   "cell_type": "code",
   "execution_count": 47,
   "metadata": {},
   "outputs": [
    {
     "name": "stdout",
     "output_type": "stream",
     "text": [
      "1. Katilimcinin Adi Ismail, Soyadi Aydemir\n",
      "2. Katilimcinin Adi Uygar, Soyadi Aydin\n",
      "3. Katilimcinin Adi Naz, Soyadi Yagcioglu\n",
      "1. Moderatörün Adi Ferhat, Soyadi Ibrik\n",
      "4. Katilimcinin Adi Ulas, Soyadi Acil\n",
      "5. Katilimcinin Adi Bilal, Soyadi Kurucay\n"
     ]
    }
   ],
   "source": [
    "moderator = \"Ferhat Ibrik\"\n",
    "\n",
    "kullanici_sayi = 0\n",
    "moderator_sayi = 0\n",
    "\n",
    "for isim in yorum_birakanlar:\n",
    "    ad, soyad = isim.split()[0], isim.split()[1]\n",
    "    if(isim == moderator):\n",
    "        moderator_sayi+=1\n",
    "        print('{}. Moderatörün Adi {}, Soyadi {}'.format(moderator_sayi,ad,soyad))\n",
    "    else:\n",
    "        kullanici_sayi+=1\n",
    "        print('{}. Katilimcinin Adi {}, Soyadi {}'.format(kullanici_sayi,ad,soyad))    "
   ]
  },
  {
   "cell_type": "code",
   "execution_count": 42,
   "metadata": {},
   "outputs": [
    {
     "name": "stdout",
     "output_type": "stream",
     "text": [
      "1\n",
      "3\n",
      "5\n",
      "7\n"
     ]
    }
   ],
   "source": [
    "tup1 = (1,3,5,7)\n",
    "for sayi in tup1:\n",
    "    print(sayi)"
   ]
  },
  {
   "cell_type": "code",
   "execution_count": 46,
   "metadata": {},
   "outputs": [
    {
     "name": "stdout",
     "output_type": "stream",
     "text": [
      "0\n",
      "6\n",
      "20\n"
     ]
    }
   ],
   "source": [
    "liste = [[0,1],[2,3],[4,5]]\n",
    "\n",
    "for a,b in liste:\n",
    "    print(a*b)"
   ]
  },
  {
   "cell_type": "code",
   "execution_count": 53,
   "metadata": {},
   "outputs": [
    {
     "name": "stdout",
     "output_type": "stream",
     "text": [
      "{'ad': 'Naz', 'soyad': 'Yagcioglu'}\n",
      "Key: ad \t Value: Naz\n",
      "Key: soyad \t Value: Yagcioglu\n"
     ]
    }
   ],
   "source": [
    "kullanici1 = {'ad': 'Naz', 'soyad':'Yagcioglu'}\n",
    "for key, value in kullanici1.items():\n",
    "    print(\"Key: {} \\t Value: {}\".format(key, value))"
   ]
  },
  {
   "cell_type": "markdown",
   "metadata": {},
   "source": [
    "# while Döngüleri"
   ]
  },
  {
   "cell_type": "raw",
   "metadata": {},
   "source": [
    "while <sart dogruyken>:\n",
    "    <burda yazilani yap>"
   ]
  },
  {
   "cell_type": "raw",
   "metadata": {},
   "source": [
    "Faktöriyel Hesabi\n",
    "3! = 3 * 2 * 1\n",
    "6! = 6 * 5 * 4 * 3 * 2 * 1"
   ]
  },
  {
   "cell_type": "code",
   "execution_count": 55,
   "metadata": {},
   "outputs": [
    {
     "name": "stdout",
     "output_type": "stream",
     "text": [
      "720\n"
     ]
    }
   ],
   "source": [
    "x = 6\n",
    "sayi = 1\n",
    "while x > 1:\n",
    "    sayi = sayi * x\n",
    "    x-=1\n",
    "print(sayi)"
   ]
  },
  {
   "cell_type": "markdown",
   "metadata": {},
   "source": [
    "# Ek Özellikler"
   ]
  },
  {
   "cell_type": "raw",
   "metadata": {},
   "source": [
    "pass:\n",
    "break:\n",
    "continue: "
   ]
  },
  {
   "cell_type": "code",
   "execution_count": 59,
   "metadata": {},
   "outputs": [
    {
     "name": "stdout",
     "output_type": "stream",
     "text": [
      "1\n",
      "3\n",
      "5\n"
     ]
    }
   ],
   "source": [
    "for sayi in range(1,6):  \n",
    "    if sayi%2 == 0:\n",
    "        pass\n",
    "    else:\n",
    "        print(sayi)"
   ]
  },
  {
   "cell_type": "code",
   "execution_count": 62,
   "metadata": {},
   "outputs": [
    {
     "name": "stdout",
     "output_type": "stream",
     "text": [
      "1\n",
      "3\n",
      "5\n"
     ]
    }
   ],
   "source": [
    "for sayi in range(1,6):  \n",
    "    if sayi%2 == 0:\n",
    "        continue\n",
    "    print(sayi)"
   ]
  },
  {
   "cell_type": "code",
   "execution_count": 64,
   "metadata": {},
   "outputs": [
    {
     "name": "stdout",
     "output_type": "stream",
     "text": [
      "c harfi 3 konumda ve 2. indexte!\n"
     ]
    }
   ],
   "source": [
    "index = 0\n",
    "harfler = ['a','b','c','d','e']\n",
    "for harf in harfler:\n",
    "    index += 1\n",
    "    if harf == 'c':\n",
    "        print(\"{} harfi {} konumda ve {}. indexte!\".format(harf, index, index-1))\n",
    "        break\n",
    "        "
   ]
  },
  {
   "cell_type": "code",
   "execution_count": 65,
   "metadata": {},
   "outputs": [
    {
     "name": "stdout",
     "output_type": "stream",
     "text": [
      "(0, 'a')\n",
      "(1, 'b')\n",
      "(2, 'c')\n",
      "(3, 'd')\n",
      "(4, 'e')\n"
     ]
    }
   ],
   "source": [
    "for harf in enumerate(harfler):\n",
    "    print(harf)"
   ]
  },
  {
   "cell_type": "code",
   "execution_count": 66,
   "metadata": {},
   "outputs": [
    {
     "name": "stdout",
     "output_type": "stream",
     "text": [
      "0 a\n",
      "1 b\n",
      "2 c\n",
      "3 d\n",
      "4 e\n"
     ]
    }
   ],
   "source": [
    "for index, value in enumerate(harfler):\n",
    "    print(index, value)"
   ]
  },
  {
   "cell_type": "code",
   "execution_count": 67,
   "metadata": {},
   "outputs": [
    {
     "name": "stdout",
     "output_type": "stream",
     "text": [
      "(1, 'TR')\n",
      "(2, 'FR')\n",
      "(3, 'DE')\n"
     ]
    }
   ],
   "source": [
    "ulkeler = ['TR', 'FR', 'DE']\n",
    "siralama = [1,2,3]\n",
    "\n",
    "for ulke in zip(siralama, ulkeler):\n",
    "    print(ulke)"
   ]
  }
 ],
 "metadata": {
  "kernelspec": {
   "display_name": "Python 3",
   "language": "python",
   "name": "python3"
  },
  "language_info": {
   "codemirror_mode": {
    "name": "ipython",
    "version": 3
   },
   "file_extension": ".py",
   "mimetype": "text/x-python",
   "name": "python",
   "nbconvert_exporter": "python",
   "pygments_lexer": "ipython3",
   "version": "3.7.1"
  }
 },
 "nbformat": 4,
 "nbformat_minor": 4
}
