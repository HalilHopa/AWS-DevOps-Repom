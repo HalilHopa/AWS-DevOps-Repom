{
 "cells": [
  {
   "cell_type": "code",
   "execution_count": 12,
   "metadata": {},
   "outputs": [],
   "source": [
    "kullanici1 = {\n",
    "    'ad': 'Ferhat',\n",
    "    'soyad': 'Ibrik',\n",
    "    'uzmanlik': ['Front-End']\n",
    "}\n",
    "kullanici2 = {\n",
    "    'ad': 'Gokce',\n",
    "    'soyad': 'Gün',\n",
    "    'uzmanlik': ['Tasarim']\n",
    "}\n",
    "kullanici3 = {\n",
    "    'ad': 'Mesut',\n",
    "    'soyad': 'Gün',\n",
    "    'uzmanlik': ['Front-End']\n",
    "}"
   ]
  },
  {
   "cell_type": "code",
   "execution_count": 13,
   "metadata": {},
   "outputs": [
    {
     "data": {
      "text/plain": [
       "['Front-End']"
      ]
     },
     "execution_count": 13,
     "metadata": {},
     "output_type": "execute_result"
    }
   ],
   "source": [
    "# Soru 1: Ferhat Ibrik Kullanicisinin uzmanlik alanlarini döndür\n"
   ]
  },
  {
   "cell_type": "code",
   "execution_count": 14,
   "metadata": {},
   "outputs": [
    {
     "name": "stdout",
     "output_type": "stream",
     "text": [
      "Ferhat\n",
      "Mesut\n"
     ]
    }
   ],
   "source": [
    "kullanici_listesi = [kullanici1, kullanici2, kullanici3] \n",
    "\n",
    "# Soru 2: Front-end alanindaki uzmanlarin isimlerini döndür\n"
   ]
  },
  {
   "cell_type": "code",
   "execution_count": 16,
   "metadata": {},
   "outputs": [
    {
     "name": "stdout",
     "output_type": "stream",
     "text": [
      "[{'ad': 'Ferhat', 'soyad': 'Ibrik', 'uzmanlik': ['Front-End']}, {'ad': 'Gokce', 'soyad': 'Gün', 'uzmanlik': ['Tasarim']}, {'ad': 'Mesut', 'soyad': 'Gün', 'uzmanlik': ['Front-End', 'Yazilim', 'Yazilim']}]\n"
     ]
    }
   ],
   "source": [
    "# Soru 3: Mesut kullanicisi Yazilim ögrendi, bilgileri güncelle!\n"
   ]
  },
  {
   "cell_type": "code",
   "execution_count": 20,
   "metadata": {},
   "outputs": [
    {
     "name": "stdout",
     "output_type": "stream",
     "text": [
      "{'ad': 'Mesut', 'soyad': 'Gün', 'uzmanlik': ['Front-End', 'Yazilim', 'Yazilim']}\n"
     ]
    }
   ],
   "source": [
    "# Soru 4: 1den fazla uzmanlik alani olan kullanicilari döndür (Hint: length)\n"
   ]
  },
  {
   "cell_type": "code",
   "execution_count": 35,
   "metadata": {},
   "outputs": [
    {
     "name": "stdout",
     "output_type": "stream",
     "text": [
      "{'ad': 'Ferhat', 'soyad': 'Ibrik', 'uzmanlik': ['Front-End']}\n"
     ]
    }
   ],
   "source": [
    "kullanici_yaslari_listesi = [22, 34, 32]\n",
    "# Soru 5: zip kullanarak iki listeyi birlestir ve yasi 30'dan az olan kullanicilar kimler?\n"
   ]
  },
  {
   "cell_type": "code",
   "execution_count": 31,
   "metadata": {},
   "outputs": [
    {
     "name": "stdout",
     "output_type": "stream",
     "text": [
      "3 sayisi asaldir!\n"
     ]
    }
   ],
   "source": [
    "# Soru 6: deger isimli degiskene atanan sayinin asal olup olmadigini söyle!\n",
    "# Hint Asal sayi: kendinden ve 1'den baska böleni olmayan sayilar örnek 2,3,5,7\n",
    "\n",
    "deger = 3\n"
   ]
  }
 ],
 "metadata": {
  "kernelspec": {
   "display_name": "Python 3",
   "language": "python",
   "name": "python3"
  },
  "language_info": {
   "codemirror_mode": {
    "name": "ipython",
    "version": 3
   },
   "file_extension": ".py",
   "mimetype": "text/x-python",
   "name": "python",
   "nbconvert_exporter": "python",
   "pygments_lexer": "ipython3",
   "version": "3.7.6"
  }
 },
 "nbformat": 4,
 "nbformat_minor": 4
}
